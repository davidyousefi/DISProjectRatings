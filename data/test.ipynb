{
 "cells": [
  {
   "cell_type": "code",
   "execution_count": 109,
   "metadata": {},
   "outputs": [],
   "source": [
    "import pandas as pd\n",
    "import csv"
   ]
  },
  {
   "cell_type": "code",
   "execution_count": 110,
   "metadata": {},
   "outputs": [],
   "source": [
    "with open('BIG_Netflix_titles.csv', 'r', newline='', encoding='ISO-8859-1') as input_file:\n",
    "    reader = csv.DictReader(input_file)\n",
    "    column_data = [row['title'] for row in reader]\n",
    "\n",
    "with open('NetflixTitles.csv', 'w', newline='', encoding='ISO-8859-1') as output_file:\n",
    "    header = ['title']\n",
    "    writer = csv.writer(output_file)\n",
    "    writer.writerow(header)\n",
    "    for data in column_data:\n",
    "        writer.writerow([data])"
   ]
  }
 ],
 "metadata": {
  "kernelspec": {
   "display_name": "Python 3",
   "language": "python",
   "name": "python3"
  },
  "language_info": {
   "codemirror_mode": {
    "name": "ipython",
    "version": 3
   },
   "file_extension": ".py",
   "mimetype": "text/x-python",
   "name": "python",
   "nbconvert_exporter": "python",
   "pygments_lexer": "ipython3",
   "version": "3.10.8"
  }
 },
 "nbformat": 4,
 "nbformat_minor": 2
}
